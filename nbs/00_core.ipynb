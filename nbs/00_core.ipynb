{
 "cells": [
  {
   "cell_type": "markdown",
   "metadata": {},
   "source": [
    "# core\n",
    "\n",
    "> Fill in a module description here"
   ]
  },
  {
   "cell_type": "code",
   "execution_count": null,
   "metadata": {},
   "outputs": [],
   "source": [
    "#| default_exp core"
   ]
  },
  {
   "cell_type": "code",
   "execution_count": null,
   "metadata": {},
   "outputs": [],
   "source": [
    "#| hide\n",
    "from nbdev.showdoc import *"
   ]
  },
  {
   "cell_type": "code",
   "execution_count": null,
   "metadata": {},
   "outputs": [],
   "source": [
    "#| export\n",
    "def foo(): pass"
   ]
  },
  {
   "cell_type": "code",
   "execution_count": null,
   "metadata": {},
   "outputs": [],
   "source": [
    "#| hide\n",
    "import nbdev; nbdev.nbdev_export()"
   ]
  },
  {
   "cell_type": "code",
   "execution_count": null,
   "metadata": {},
   "outputs": [],
   "source": []
  },
  {
   "cell_type": "code",
   "execution_count": null,
   "metadata": {},
   "outputs": [],
   "source": [
    "from inspect import getmembers, isfunction, ismethod\n",
    "\n",
    "from nbdev_mkdocs.mkdocs import _get_submodule_members, _load_submodules"
   ]
  },
  {
   "cell_type": "code",
   "execution_count": null,
   "metadata": {},
   "outputs": [
    {
     "data": {
      "text/plain": [
       "['test_ghp_workflow',\n",
       " 'test_ghp_workflow.core',\n",
       " 'test_ghp_workflow.core.foo',\n",
       " 'test_ghp_workflow.fixture',\n",
       " 'test_ghp_workflow.fixture.Car']"
      ]
     },
     "execution_count": null,
     "metadata": {},
     "output_type": "execute_result"
    }
   ],
   "source": [
    "module_name = \"test_ghp_workflow\"\n",
    "members_with_submodules = _get_submodule_members(module_name)\n",
    "members_with_submodules\n"
   ]
  },
  {
   "cell_type": "code",
   "execution_count": null,
   "metadata": {},
   "outputs": [
    {
     "data": {
      "text/plain": [
       "[<function test_ghp_workflow.core.foo()>,\n",
       " test_ghp_workflow.fixture.Car,\n",
       " test_ghp_workflow.fixture.Car]"
      ]
     },
     "execution_count": null,
     "metadata": {},
     "output_type": "execute_result"
    }
   ],
   "source": [
    "symbols = _load_submodules(module_name, members_with_submodules)\n",
    "symbols"
   ]
  },
  {
   "cell_type": "code",
   "execution_count": null,
   "metadata": {},
   "outputs": [
    {
     "name": "stdout",
     "output_type": "stream",
     "text": [
      "SOME_ATTRIBUTE isfunction(y)=False ismethod(y)=False\n",
      "drive isfunction(y)=True ismethod(y)=False\n",
      "drive\n",
      "i_am_a_class_method isfunction(y)=False ismethod(y)=True\n",
      "i_am_a_static_method isfunction(y)=True ismethod(y)=False\n",
      "i_am_a_static_method\n",
      "patched_method_from_a_different_file isfunction(y)=True ismethod(y)=False\n",
      "patched_method_from_a_different_file\n",
      "patched_method_in_same_file isfunction(y)=True ismethod(y)=False\n",
      "patched_method_in_same_file\n",
      "random_method isfunction(y)=True ismethod(y)=False\n",
      "random_method\n",
      "start isfunction(y)=True ismethod(y)=False\n",
      "start\n",
      "stop isfunction(y)=True ismethod(y)=False\n",
      "stop\n"
     ]
    }
   ],
   "source": [
    "for x, y in getmembers(symbols[1]):\n",
    "    if not x.startswith(\"_\"):\n",
    "        print(x, f\"{isfunction(y)=}\", f\"{ismethod(y)=}\")\n",
    "        if isfunction(y) and y.__doc__ is not None:\n",
    "            print(x)"
   ]
  },
  {
   "cell_type": "code",
   "execution_count": null,
   "metadata": {},
   "outputs": [],
   "source": []
  }
 ],
 "metadata": {
  "kernelspec": {
   "display_name": "python3",
   "language": "python",
   "name": "python3"
  }
 },
 "nbformat": 4,
 "nbformat_minor": 4
}
