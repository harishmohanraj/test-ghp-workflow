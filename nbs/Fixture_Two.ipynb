{
 "cells": [
  {
   "cell_type": "code",
   "execution_count": null,
   "id": "dc5dbc0f",
   "metadata": {},
   "outputs": [],
   "source": [
    "# | default_exp fixture_two"
   ]
  },
  {
   "cell_type": "code",
   "execution_count": null,
   "id": "3ec2a092",
   "metadata": {},
   "outputs": [],
   "source": [
    "# | export\n",
    "\n",
    "from typing import *\n",
    "\n",
    "from fastcore.basics import patch\n",
    "\n",
    "from test_ghp_workflow.fixture import Car"
   ]
  },
  {
   "cell_type": "code",
   "execution_count": null,
   "id": "e919ba3d",
   "metadata": {},
   "outputs": [],
   "source": [
    "# | export\n",
    "\n",
    "@patch\n",
    "def patched_method_from_a_different_file(self:Car, s: str) -> str: \n",
    "    \"\"\"I am a patched method from a different file\n",
    "    \n",
    "    Args:\n",
    "        s: string\n",
    "        \n",
    "    Returns:\n",
    "        A string\n",
    "    \"\"\"\n",
    "    return f\"Hello, {s}.\""
   ]
  },
  {
   "cell_type": "code",
   "execution_count": null,
   "id": "d531a602",
   "metadata": {},
   "outputs": [
    {
     "data": {
      "text/plain": [
       "'Hello, world.'"
      ]
     },
     "execution_count": null,
     "metadata": {},
     "output_type": "execute_result"
    }
   ],
   "source": [
    "car = Car(\"Honda\", \"City\", 2021, \"red\")\n",
    "car.patched_method(\"world\")"
   ]
  }
 ],
 "metadata": {
  "kernelspec": {
   "display_name": "python3",
   "language": "python",
   "name": "python3"
  }
 },
 "nbformat": 4,
 "nbformat_minor": 5
}
